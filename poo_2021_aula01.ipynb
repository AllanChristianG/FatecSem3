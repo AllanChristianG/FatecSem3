{
  "nbformat": 4,
  "nbformat_minor": 0,
  "metadata": {
    "colab": {
      "name": "poo-2021-aula01.ipynb",
      "provenance": [],
      "collapsed_sections": [],
      "include_colab_link": true
    },
    "kernelspec": {
      "name": "python3",
      "display_name": "Python 3"
    }
  },
  "cells": [
    {
      "cell_type": "markdown",
      "metadata": {
        "id": "view-in-github",
        "colab_type": "text"
      },
      "source": [
        "<a href=\"https://colab.research.google.com/github/AllanChristianG/FatecSem3/blob/main/poo_2021_aula01.ipynb\" target=\"_parent\"><img src=\"https://colab.research.google.com/assets/colab-badge.svg\" alt=\"Open In Colab\"/></a>"
      ]
    },
    {
      "cell_type": "markdown",
      "metadata": {
        "id": "Lrv2E6uCrTE7"
      },
      "source": [
        "## POO com Python - Aula 01 e 02"
      ]
    },
    {
      "cell_type": "code",
      "metadata": {
        "colab": {
          "base_uri": "https://localhost:8080/"
        },
        "id": "tyeyM3CUjHFg",
        "outputId": "ff952287-9152-41cb-da0d-b2af75266808"
      },
      "source": [
        "a = 'F'\n",
        "print(a)\n",
        "print(type(a))"
      ],
      "execution_count": null,
      "outputs": [
        {
          "output_type": "stream",
          "text": [
            "F\n",
            "<class 'str'>\n"
          ],
          "name": "stdout"
        }
      ]
    },
    {
      "cell_type": "code",
      "metadata": {
        "colab": {
          "base_uri": "https://localhost:8080/"
        },
        "id": "2fgECicXsMMj",
        "outputId": "5c9a76aa-b273-4b47-b516-bdaad4329fb4"
      },
      "source": [
        "a = 2\n",
        "print(a)\n",
        "print(type(a))"
      ],
      "execution_count": null,
      "outputs": [
        {
          "output_type": "stream",
          "text": [
            "2\n",
            "<class 'int'>\n"
          ],
          "name": "stdout"
        }
      ]
    },
    {
      "cell_type": "code",
      "metadata": {
        "colab": {
          "base_uri": "https://localhost:8080/"
        },
        "id": "cNnhnfEGtFi5",
        "outputId": "35a1071b-b729-4a2c-dcb4-593597ac44b8"
      },
      "source": [
        "print(a)"
      ],
      "execution_count": null,
      "outputs": [
        {
          "output_type": "stream",
          "text": [
            "F\n"
          ],
          "name": "stdout"
        }
      ]
    },
    {
      "cell_type": "code",
      "metadata": {
        "id": "YMpXdBBtu895"
      },
      "source": [
        "class Porta:\n",
        "  # atributo da classe\n",
        "  cor = 'preto'\n",
        "\n",
        "  # construtor\n",
        "  def __init__(self, status, numero):\n",
        "    # atributos da instância/objeto\n",
        "    self.status = status\n",
        "    self.numero = numero\n",
        "  \n",
        "  def abrir(self):\n",
        "    self.status = 'aberta'\n",
        "\n",
        "  def fechar(self):\n",
        "    self.status = 'fechada'"
      ],
      "execution_count": null,
      "outputs": []
    },
    {
      "cell_type": "code",
      "metadata": {
        "colab": {
          "base_uri": "https://localhost:8080/"
        },
        "id": "ILhzwSeox5zV",
        "outputId": "d46d8563-d685-4d4d-d3a7-ae02ec38f545"
      },
      "source": [
        "p1 = Porta('fechada', 1000)\n",
        "print(p1.status + \" - \" + str(p1.numero) + \" - \" + p1.cor)\n",
        "\n",
        "p2 = Porta('aberta', 1001)\n",
        "print(p2.status + \" - \" + str(p2.numero) + \" - \" + p2.cor)"
      ],
      "execution_count": null,
      "outputs": [
        {
          "output_type": "stream",
          "text": [
            "fechada - 1000 - preto\n",
            "aberta - 1001 - preto\n"
          ],
          "name": "stdout"
        }
      ]
    },
    {
      "cell_type": "code",
      "metadata": {
        "id": "ADDe0LR-oLLk"
      },
      "source": [
        "Porta.cor = 'amarelo'"
      ],
      "execution_count": null,
      "outputs": []
    },
    {
      "cell_type": "code",
      "metadata": {
        "colab": {
          "base_uri": "https://localhost:8080/"
        },
        "id": "q8YOsanPoVB7",
        "outputId": "c74b3979-dad4-4ff4-9bb4-84978f71126a"
      },
      "source": [
        "print(p1.status + \" - \" + str(p1.numero) + \" - \" + p1.cor)\n",
        "print(p2.status + \" - \" + str(p2.numero) + \" - \" + p2.cor)"
      ],
      "execution_count": null,
      "outputs": [
        {
          "output_type": "stream",
          "text": [
            "fechada - 1000 - amarelo\n",
            "aberta - 1001 - amarelo\n"
          ],
          "name": "stdout"
        }
      ]
    },
    {
      "cell_type": "code",
      "metadata": {
        "colab": {
          "base_uri": "https://localhost:8080/"
        },
        "id": "wPTDB1Ib2wrc",
        "outputId": "bfe82054-3235-4a9a-ba17-4d3671993aab"
      },
      "source": [
        "print(p1.__dict__)\n",
        "print(p2.__dict__)"
      ],
      "execution_count": null,
      "outputs": [
        {
          "output_type": "stream",
          "text": [
            "{'status': 'fechada', 'numero': 1000}\n",
            "{'status': 'aberta', 'numero': 1001}\n"
          ],
          "name": "stdout"
        }
      ]
    },
    {
      "cell_type": "code",
      "metadata": {
        "colab": {
          "base_uri": "https://localhost:8080/"
        },
        "id": "Z8XysTPg6uJE",
        "outputId": "783c17f9-2dd6-416d-c4f4-5dc92d3e3642"
      },
      "source": [
        "Porta.__dict__"
      ],
      "execution_count": null,
      "outputs": [
        {
          "output_type": "execute_result",
          "data": {
            "text/plain": [
              "mappingproxy({'__dict__': <attribute '__dict__' of 'Porta' objects>,\n",
              "              '__doc__': None,\n",
              "              '__init__': <function __main__.Porta.__init__>,\n",
              "              '__module__': '__main__',\n",
              "              '__weakref__': <attribute '__weakref__' of 'Porta' objects>,\n",
              "              'abrir': <function __main__.Porta.abrir>,\n",
              "              'cor': 'amarelo',\n",
              "              'fechar': <function __main__.Porta.fechar>})"
            ]
          },
          "metadata": {
            "tags": []
          },
          "execution_count": 12
        }
      ]
    },
    {
      "cell_type": "code",
      "metadata": {
        "id": "dO848hW4pQjA"
      },
      "source": [
        "p1.cor = 'roxa'"
      ],
      "execution_count": null,
      "outputs": []
    },
    {
      "cell_type": "code",
      "metadata": {
        "colab": {
          "base_uri": "https://localhost:8080/"
        },
        "id": "iMlWU4UKp9vA",
        "outputId": "fadba568-2533-4af7-90ca-972a33cca70e"
      },
      "source": [
        "print(p1.__dict__)\n",
        "print(p2.__dict__)"
      ],
      "execution_count": null,
      "outputs": [
        {
          "output_type": "stream",
          "text": [
            "{'status': 'fechada', 'numero': 1000, 'cor': 'roxa'}\n",
            "{'status': 'aberta', 'numero': 1001}\n"
          ],
          "name": "stdout"
        }
      ]
    },
    {
      "cell_type": "code",
      "metadata": {
        "colab": {
          "base_uri": "https://localhost:8080/"
        },
        "id": "5vZH5_cIqXM3",
        "outputId": "c16dacd6-b6e2-4879-92ba-cf4358d971e3"
      },
      "source": [
        "Porta.__dict__"
      ],
      "execution_count": null,
      "outputs": [
        {
          "output_type": "execute_result",
          "data": {
            "text/plain": [
              "mappingproxy({'__dict__': <attribute '__dict__' of 'Porta' objects>,\n",
              "              '__doc__': None,\n",
              "              '__init__': <function __main__.Porta.__init__>,\n",
              "              '__module__': '__main__',\n",
              "              '__weakref__': <attribute '__weakref__' of 'Porta' objects>,\n",
              "              'abrir': <function __main__.Porta.abrir>,\n",
              "              'cor': 'amarelo',\n",
              "              'fechar': <function __main__.Porta.fechar>})"
            ]
          },
          "metadata": {
            "tags": []
          },
          "execution_count": 15
        }
      ]
    },
    {
      "cell_type": "code",
      "metadata": {
        "id": "q6Il1JsLqoOR"
      },
      "source": [
        "p1.fechadura = 'metal'"
      ],
      "execution_count": null,
      "outputs": []
    },
    {
      "cell_type": "code",
      "metadata": {
        "colab": {
          "base_uri": "https://localhost:8080/"
        },
        "id": "BJMOge5cquKh",
        "outputId": "577a0360-06b5-4170-9886-7dc3b3750773"
      },
      "source": [
        "print(p1.__dict__)\n",
        "print(p2.__dict__)"
      ],
      "execution_count": null,
      "outputs": [
        {
          "output_type": "stream",
          "text": [
            "{'status': 'fechada', 'numero': 1000, 'cor': 'roxa', 'fechadura': 'metal'}\n",
            "{'status': 'aberta', 'numero': 1001}\n"
          ],
          "name": "stdout"
        }
      ]
    },
    {
      "cell_type": "code",
      "metadata": {
        "colab": {
          "base_uri": "https://localhost:8080/"
        },
        "id": "eMo0r5C3rJYp",
        "outputId": "6f493ad5-c643-474d-f0cf-ca431aaa3742"
      },
      "source": [
        "Porta.__dict__"
      ],
      "execution_count": null,
      "outputs": [
        {
          "output_type": "execute_result",
          "data": {
            "text/plain": [
              "mappingproxy({'__dict__': <attribute '__dict__' of 'Porta' objects>,\n",
              "              '__doc__': None,\n",
              "              '__init__': <function __main__.Porta.__init__>,\n",
              "              '__module__': '__main__',\n",
              "              '__weakref__': <attribute '__weakref__' of 'Porta' objects>,\n",
              "              'abrir': <function __main__.Porta.abrir>,\n",
              "              'cor': 'amarelo',\n",
              "              'fechar': <function __main__.Porta.fechar>})"
            ]
          },
          "metadata": {
            "tags": []
          },
          "execution_count": 18
        }
      ]
    },
    {
      "cell_type": "code",
      "metadata": {
        "colab": {
          "base_uri": "https://localhost:8080/"
        },
        "id": "S4eMYzRrrPO9",
        "outputId": "b8c1262b-d96c-4cfe-87d2-8cf44c4d2a89"
      },
      "source": [
        "print(p1.cor)\n",
        "print(p2.cor)"
      ],
      "execution_count": null,
      "outputs": [
        {
          "output_type": "stream",
          "text": [
            "roxa\n",
            "amarelo\n"
          ],
          "name": "stdout"
        }
      ]
    },
    {
      "cell_type": "code",
      "metadata": {
        "colab": {
          "base_uri": "https://localhost:8080/"
        },
        "id": "tXDOHyWHrSRk",
        "outputId": "3e5bf1e9-db91-414e-9933-d02171b41247"
      },
      "source": [
        "print(p1.fechadura)\n",
        "#print(p2.fechadura) --> AttributeError"
      ],
      "execution_count": null,
      "outputs": [
        {
          "output_type": "stream",
          "text": [
            "metal\n"
          ],
          "name": "stdout"
        }
      ]
    },
    {
      "cell_type": "code",
      "metadata": {
        "id": "VnIsucKxsujd"
      },
      "source": [
        "class Porta:\n",
        "  # atributo da classe\n",
        "  cor = 'preto'\n",
        "\n",
        "  # construtor\n",
        "  def __init__(self, status, numero):\n",
        "    # atributos da instância/objeto\n",
        "    self.status = status\n",
        "    self.numero = numero\n",
        "\n",
        "  @classmethod\n",
        "  def knock(cls):\n",
        "    print(\"Knock knock!\")\n",
        "  \n",
        "  def abrir(self):\n",
        "    self.status = 'aberta'\n",
        "\n",
        "  def fechar(self):\n",
        "    self.status = 'fechada'"
      ],
      "execution_count": 2,
      "outputs": []
    }
  ]
}